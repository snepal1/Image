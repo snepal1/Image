{
 "cells": [
  {
   "cell_type": "markdown",
   "id": "22cc9004",
   "metadata": {},
   "source": [
    "<div class=\"alert alert-block alert-success\">\n",
    "<b> <font size=\"+3\"> <font color=\"black\"> \n",
    "USDA, National Agriculture Imagery Program (NAIP): Image Processing Using Python </font color></font> </b> \n",
    "\n",
    "    \n",
    "<font color=\"black\"> _Author: Sushil Nepal_\n",
    "    \n",
    "<font color=\"black\"> _Date: August 4th, 2023_ \n",
    "    \n",
    "<font color=\"black\"> _Objectives:_ \n",
    "    \n",
    "> <font color=\"black\">  1. To import, explore, and visualize the 4-Channel (bands) NAIP imagery.\n",
    "   \n",
    "> <font color=\"black\">  2. To create a interactive map using.\n",
    "   \n",
    "> <font color=\"black\">  3. Calculate the Normalized Difference Vegetation Index (NDVI) using the red and near-infrared channles.\n",
    "  \n",
    "> <font color=\"black\">  4. To sgement the image using superpixells.\n",
    " \n",
    "> <font color=\"black\">  5. Generating shapefile of the segments.\n",
    "</div>"
   ]
  },
  {
   "cell_type": "markdown",
   "id": "0411eb4c",
   "metadata": {},
   "source": [
    "<div class=\"alert alert-block alert-success\">\n",
    "<b> <font size=\"+3\"> <font color=\"black\">\n",
    "Tutorial Outline</font color></font> </b> \n",
    "\n",
    "\n",
    "> <font color=\"black\"> Part 1. Explore and visualize the NAIP image\n",
    "\n",
    "> <font color=\"black\"> Part 2. Calculate the NDVI using NAIP imagery\n",
    "\n",
    "> <font color=\"black\"> Part 3. Segement the NAIP image \n",
    "\n",
    "> <font color=\"black\"> Part 4. Generate the shapefile of the segments\n",
    "\n",
    "> <font color=\"black\"> Part 5. Create an interactive map of the segmented shapefile using folium\n",
    "</div>"
   ]
  },
  {
   "cell_type": "markdown",
   "id": "7854cc45",
   "metadata": {},
   "source": [
    "<div class=\"alert alert-block alert-success\">\n",
    "<b> <font size=\"+3\"> <font color=\"black\">\n",
    "Data Download</font color></font> </b> \n",
    "\n",
    "#### You can download the 4-channel NAIP imagery for the region of your interest using the link given below:\n",
    "\n",
    "[Naip Image](https://www.coast.noaa.gov/dataviewer/#/imagery/search/)\n",
    "</div>"
   ]
  },
  {
   "cell_type": "markdown",
   "id": "4786e5b2",
   "metadata": {},
   "source": [
    "# Part 1: Explore and Visualize the NAIP image \n",
    "\n",
    "## Step 1: I will first start by importing the required libraries\n",
    "\n",
    "> #### For this exercise, I will be needing fucntion within numpy, rasterio, scikitlearn, and geopandas librarries to read, manipulate and analyzed the raster data (NAIP). While we will use libraries like matplotlib for visualization and folium to create the interactive maps. \n",
    "\n",
    "> ##### Lets get started by loading the required libraries"
   ]
  },
  {
   "cell_type": "code",
   "execution_count": null,
   "id": "745e0f1a",
   "metadata": {},
   "outputs": [],
   "source": [
    "import numpy as np\n",
    "import folium\n",
    "import rasterio\n",
    "from rasterio.plot import show\n",
    "import matplotlib.pyplot as plt\n",
    "import matplotlib.colors as mcolors\n",
    "import geopandas as gpd\n",
    "%matplotlib inline"
   ]
  },
  {
   "cell_type": "markdown",
   "id": "b2da57fd",
   "metadata": {},
   "source": [
    "## Step 2: load the 4-band NAIP \n",
    "> #### I will load the imagery from the folder where it was stored into jupyter notebook environemnt using the rasterio-open function from rasterio library.To use this code you can change the path to where you have stored your imagery in your personal computer.We will also print the projection of the naip image. Projection is important to know while visualizing the data in the later part of this exercise.\n",
    "> ##### My NAIP image (clipped_naip1.tif) is located in the Super_pixels subfolder under the folder Lassen_data in my S drive. You can set the path to you folder by changing the code below"
   ]
  },
  {
   "cell_type": "code",
   "execution_count": null,
   "id": "847ab52f",
   "metadata": {},
   "outputs": [],
   "source": [
    "raster_path = \"S:\\\\Lassen_data\\\\Super_pixels\\\\clipped_naip1.tif\"\n",
    "naip_data=rasterio.open(raster_path)"
   ]
  },
  {
   "cell_type": "markdown",
   "id": "6f5d1066",
   "metadata": {},
   "source": [
    "## Step 2: Explore the NAIP data \n",
    "> #### I will check the resolution, projection, number of rows-columns, and the number of bands of the image and print the results. I will also check the minimum and maximum cordinates within northing (Y) and easting (X)."
   ]
  },
  {
   "cell_type": "code",
   "execution_count": null,
   "id": "d495612b",
   "metadata": {},
   "outputs": [],
   "source": [
    "print('Resolution X, Y:',naip_data.res)\n",
    "print('Coordinate reference system (CRS):', naip_data.crs)\n",
    "print('Width:', naip_data.width)\n",
    "print('Height:', naip_data.height)\n",
    "print('Number of bands:',naip_data.count)\n",
    "\n",
    "# Get the minimum and maximum coordinates\n",
    "min_x, min_y = naip_data.bounds.left, naip_data.bounds.bottom\n",
    "max_x, max_y = naip_data.bounds.right, naip_data.bounds.top\n",
    "\n",
    "print('Minimum X coordinate:', min_x)\n",
    "print('Minimum Y coordinate:', min_y)\n",
    "print('Maximum X coordinate:', max_x)\n",
    "print('Maximum Y coordinate:', max_y)\n",
    "\n"
   ]
  },
  {
   "cell_type": "markdown",
   "id": "a18aa758",
   "metadata": {},
   "source": [
    "## Step 3: Visualize the image\n",
    "> #### I will now visualize the image using matplotlib library. I will first plot all of the 4 bands together in one figure usign the _subplot ()_ function from matplotlib. I will also plot each band to its spatial extent using the _extent()_ function in each figure panel.I have included the optional code for turning the axis lables and axis ticks on and off, howevre, I have put them as comment, you can undo the comments and run the code. "
   ]
  },
  {
   "cell_type": "code",
   "execution_count": null,
   "id": "b7fa31d4",
   "metadata": {},
   "outputs": [],
   "source": [
    "\n",
    "nir_band = naip_data.read(4)\n",
    "blue_band = naip_data.read(3)\n",
    "green_band = naip_data.read(2)\n",
    "red_band = naip_data.read(1)\n",
    "\n",
    "# Create a 2x2 grid of subplots\n",
    "figure, axes = plt.subplots(2, 2, figsize=(10, 10),sharex=True,sharey=True)\n",
    "\n",
    "# Plot the NIR band\n",
    "nir_image = axes[0, 0].imshow(nir_band, cmap='viridis', extent=(naip_data.bounds.left,naip_data.bounds.right,\n",
    "                                                               naip_data.bounds.bottom,naip_data.bounds.top))\n",
    "axes[0, 0].set_title('NIR Band')\n",
    "#axes[0, 0].set_xlabel('Easting')\n",
    "axes[0, 0].set_ylabel('Northing')\n",
    "#axes[0, 0].set_xticks([])\n",
    "\n",
    "\n",
    "# Plot the Red band\n",
    "red_image = axes[0, 1].imshow(red_band, cmap='Reds', extent=(naip_data.bounds.left,naip_data.bounds.right,\n",
    "                                                               naip_data.bounds.bottom,naip_data.bounds.top))\n",
    "axes[0, 1].set_title('Red Band')\n",
    "#axes[0, 1].set_xlabel('Easting')\n",
    "#axes[0, 1].set_ylabel('Northing')\n",
    "##axes[0,1].set_yticks([])\n",
    "#axes[0,1].set_xticks([])\n",
    "\n",
    "# Plot the Green band\n",
    "green_image = axes[1, 0].imshow(green_band, cmap='Greens', extent=(naip_data.bounds.left,naip_data.bounds.right,\n",
    "                                                               naip_data.bounds.bottom,naip_data.bounds.top))\n",
    "axes[1, 0].set_title('Green Band')\n",
    "axes[1, 0].set_xlabel('Easting')\n",
    "axes[1, 0].set_ylabel('Northing')\n",
    "\n",
    "\n",
    "# Plot the Blue band\n",
    "blue_image = axes[1, 1].imshow(blue_band, cmap='Blues', extent=(naip_data.bounds.left,naip_data.bounds.right,\n",
    "                                                               naip_data.bounds.bottom,naip_data.bounds.top))\n",
    "axes[1, 1].set_title('Blue Band')\n",
    "axes[1, 1].set_xlabel('Easting')\n",
    "#axes[1,1].set_xticks([])\n",
    "#axes[1, 1].set_ylabel('Northing')"
   ]
  },
  {
   "cell_type": "markdown",
   "id": "21fd2603",
   "metadata": {},
   "source": [
    "#### Lets visualize the image as a RGB cahnnel. I will vertically stack red, green and blue channel using the np.dstack function from numpy library."
   ]
  },
  {
   "cell_type": "code",
   "execution_count": null,
   "id": "4415ba99",
   "metadata": {},
   "outputs": [],
   "source": [
    "image_stack=np.dstack((red_band,green_band,blue_band))\n",
    "\n",
    "# Create a 2x2 grid of subplots\n",
    "figure, ax = plt.subplots(figsize=(10, 10))\n",
    "# Plot the NIR band\n",
    "nir_image = ax.imshow(image_stack, extent=(naip_data.bounds.left,naip_data.bounds.right,\n",
    "                                                               naip_data.bounds.bottom,naip_data.bounds.top))\n",
    "ax.set_title('False Color Composite')\n",
    "ax.set_xlabel('Easting')\n",
    "ax.set_ylabel('Northing')\n",
    "#axes[0, 0].set_xticks([])\n"
   ]
  },
  {
   "cell_type": "markdown",
   "id": "fb5fba90",
   "metadata": {},
   "source": [
    "##### Lets quickly make a histogram of each channel and visualize the range. I have only checked the histogram of the red channel, you can play with other three channel by modifying the code below.\n"
   ]
  },
  {
   "cell_type": "code",
   "execution_count": null,
   "id": "078c93e7",
   "metadata": {},
   "outputs": [],
   "source": [
    "# I will use the red channel just for the exercise.\n",
    "plt.figure\n",
    "plt.hist (red_band.flatten(), bins=50)\n",
    "plt.show ()\n"
   ]
  },
  {
   "cell_type": "markdown",
   "id": "afa779ec",
   "metadata": {},
   "source": [
    "##### My values are way out of range between 0, and 1. They are less than 0. How can we fix this? Lets do it by min-max rescaling so that values get within the bound of 0 and 1. For this I will write a min-max scaling function and pass the function to each channel as shown below in the code. I will then stack the image and plot it."
   ]
  },
  {
   "cell_type": "code",
   "execution_count": null,
   "id": "a0fa7e15",
   "metadata": {},
   "outputs": [],
   "source": [
    "def scale (x):\n",
    "    return((x-np.nanmin(x))/(np.nanmax(x)-np.nanmin(x)))\n",
    "\n",
    "#### Lets apply to individual array \n",
    "\n",
    "blue_band = scale (blue_band)\n",
    "green_band =scale (green_band)\n",
    "red_band = scale (red_band)\n",
    "\n",
    "image_stack1=np.dstack((red_band,green_band,blue_band))\n",
    "\n",
    "# Create a 2x2 grid of subplots\n",
    "figure, ax = plt.subplots(figsize=(10, 10))\n",
    "# Plot the NIR band\n",
    "nir_image = ax.imshow(image_stack1, extent=(naip_data.bounds.left,naip_data.bounds.right,\n",
    "                                                               naip_data.bounds.bottom,naip_data.bounds.top))\n",
    "ax.set_title('False Color Composite')\n",
    "ax.set_xlabel('Easting')\n",
    "ax.set_ylabel('Northing')\n",
    "#axes[0, 0].set_xticks([])\n"
   ]
  },
  {
   "cell_type": "markdown",
   "id": "6ebf209a",
   "metadata": {},
   "source": [
    "<div class=\"alert alert-block alert-success\">\n",
    "<b> Note:</b> TADA!! We have sucessfully rescaled and plotted the RGB values within the extent. But the image appear to be dark.\n",
    "</div>"
   ]
  },
  {
   "cell_type": "markdown",
   "id": "83731505",
   "metadata": {},
   "source": [
    "##### Lets try to increase the image brightness by doing another rescaling of the original bands using the cumilative cut counts."
   ]
  },
  {
   "cell_type": "code",
   "execution_count": null,
   "id": "6201a26a",
   "metadata": {},
   "outputs": [],
   "source": [
    "\n",
    "def scale_cuts (x):\n",
    "    return((x-np.nanpercentile(x,2))/(np.nanpercentile(x, 98)-np.nanpercentile(x,2)))\n",
    "\n",
    "#### Lets apply to individual array \n",
    "\n",
    "blue_band = scale_cuts(blue_band)\n",
    "green_band =scale_cuts(green_band)\n",
    "red_band = scale_cuts(red_band)\n",
    "\n",
    "image_stack2=np.dstack((red_band,green_band,blue_band))\n",
    "\n",
    "# Create a 2x2 grid of subplots\n",
    "figure, ax = plt.subplots(figsize=(10, 10))\n",
    "# Plot the NIR band\n",
    "nir_image = ax.imshow(image_stack2, extent=(naip_data.bounds.left,naip_data.bounds.right,\n",
    "                                                               naip_data.bounds.bottom,naip_data.bounds.top))\n",
    "ax.set_title('False Color Composite')\n",
    "ax.set_xlabel('Easting')\n",
    "ax.set_ylabel('Northing')\n",
    "#axes[0, 0].set_xticks([])\n"
   ]
  },
  {
   "cell_type": "markdown",
   "id": "28e04e7e",
   "metadata": {},
   "source": [
    "<div class=\"alert alert-block alert-success\">\n",
    "<b> Note:</b> Awesome!!! notice the difference between above and this image. This image is more brighter than above.\n",
    "</div>"
   ]
  },
  {
   "cell_type": "markdown",
   "id": "9d61d4b8",
   "metadata": {},
   "source": [
    "##### Lets try another scaling function (mean standard devaition scalar) and see how image looks. You can choose to disply them in any ways you want.I like the cumulative cut counts better.\n",
    "\n"
   ]
  },
  {
   "cell_type": "code",
   "execution_count": null,
   "id": "1ceecf2f",
   "metadata": {},
   "outputs": [],
   "source": [
    "def scale_mean (x):\n",
    "    return((x-(np.nanmean(x)-np.nanstd(x)*2))/((np.nanmean(x)+np.nanstd(x)*2)-(np.nanmean(x)-np.nanstd(x)*2)))\n",
    "\n",
    "#### Lets apply to individual array \n",
    "\n",
    "blue_band = scale_mean(blue_band)\n",
    "green_band =scale_mean(green_band)\n",
    "red_band = scale_mean(red_band)\n",
    "\n",
    "image_stack3=np.dstack((red_band,green_band,blue_band))\n",
    "\n",
    "# Create a 2x2 grid of subplots\n",
    "figure, ax = plt.subplots(figsize=(10, 10))\n",
    "# Plot the NIR band\n",
    "nir_image = ax.imshow(image_stack3, extent=(naip_data.bounds.left,naip_data.bounds.right,\n",
    "                                                               naip_data.bounds.bottom,naip_data.bounds.top))\n",
    "ax.set_title('False Color Composite')\n",
    "ax.set_xlabel('Easting')\n",
    "ax.set_ylabel('Northing')\n",
    "#axes[0, 0].set_xticks([])\n"
   ]
  },
  {
   "cell_type": "markdown",
   "id": "0ae8a564",
   "metadata": {},
   "source": [
    "##### I will now convert the RGB image to jpeg image so that i can utlize it for image segmentation later."
   ]
  },
  {
   "cell_type": "code",
   "execution_count": null,
   "id": "68a2e43b",
   "metadata": {},
   "outputs": [],
   "source": [
    "import imageio\n",
    "\n",
    "# Define the output file path\n",
    "output_path = 'S:\\\\Lassen_data\\\\Super_pixels\\\\corrected.jpg'\n",
    "\n",
    "# Convert the image stack to uint8 and scale to 0-255 range (required for JPEG)\n",
    "image_stack_scaled = (image_stack2 * 255).astype('uint8')\n",
    "\n",
    "# Save the image stack as JPEG\n",
    "imageio.imwrite(output_path, image_stack_scaled, format='jpeg')\n",
    "print(f\"Image stack saved as '{output_path}'\")"
   ]
  },
  {
   "cell_type": "markdown",
   "id": "07edce9d",
   "metadata": {},
   "source": [
    "## Step 4:  Get the bounds of the NAIP image and convert it to the polygon.\n",
    "> #### I am using this step so that I can overlay the bound over the interactive ortho image to show where the study area lies and how imagery looks. For this part of exercise, I will use libraries such as rasterio to manipulate the raster and polygon data and folium to visualize over an interactive map."
   ]
  },
  {
   "cell_type": "code",
   "execution_count": null,
   "id": "b346b324",
   "metadata": {},
   "outputs": [],
   "source": [
    "from rasterio.crs import CRS\n",
    "from shapely.geometry import Polygon\n",
    "## Get the minimum and maximum coordinates\n",
    "min_x, min_y = naip_data.bounds.left, naip_data.bounds.bottom\n",
    "max_x, max_y = naip_data.bounds.right, naip_data.bounds.top\n",
    "\n",
    "# Create a Polygon representing the bounding box and convert the crs  corresponding to NAIP data\n",
    "bounding_box = Polygon([(min_x, min_y), (min_x, max_y), (max_x, max_y), (max_x, min_y)])\n",
    "\n",
    "bounding_box_crs=naip_data.crs\n",
    "\n",
    "# Create a GeoDataFrame with the bounding box\n",
    "gdf = gpd.GeoDataFrame({'geometry': [bounding_box]}, crs=bounding_box_crs)\n",
    "\n",
    "######### reproject  ###################\n",
    "#gdf_epsg  =gdf.to_crs(epsg=26910)\n",
    "gdf_epsg  =gdf.to_crs(epsg=4326) ## use this to plot with inbuit map in python\n",
    "##################### plot ###############\n",
    "\n",
    "gdf_epsg.geometry\n",
    "\n",
    "\n",
    "# Define the output shapefile path\n",
    "output_shapefile_path = \"S:/Lassen_data/Super_pixels/Shapefile/bounding_box.shp\"\n",
    "\n",
    "# Write the GeoDataFrame to a shapefile\n",
    "gdf.to_file(output_shapefile_path)\n"
   ]
  },
  {
   "cell_type": "markdown",
   "id": "346753dc",
   "metadata": {},
   "source": [
    "<div class=\"alert alert-block alert-warning\">\n",
    "<b> Note:</b> Note that folium takes epsg: 4326 projection , therfore I chnaged the projection of the bounding polygon to match up with folium map\n",
    "</div>"
   ]
  },
  {
   "cell_type": "markdown",
   "id": "c8b46471",
   "metadata": {},
   "source": [
    "## Step 5: Visualize in an interactive dashboard\n",
    "> #### First I will convert the polygon into geojason format and then center the folium to the centre of the bounding box. I will adjust the initial zoom level to 12 and then add the World_Imgery map from ESRI as the base layer.Bounding box will be displyed over the base layer to show how NAIP imagery would look like"
   ]
  },
  {
   "cell_type": "code",
   "execution_count": null,
   "id": "f86be8d4",
   "metadata": {
    "scrolled": true
   },
   "outputs": [],
   "source": [
    "\n",
    "# Create a Folium map centered on the bounding box polygon\n",
    "map_center = [gdf_epsg.centroid.y.values[0], gdf_epsg.centroid.x.values[0]]\n",
    "folium_map = folium.Map(location=map_center, zoom_start=12)\n",
    "\n",
    "# Convert the GeoDataFrame to a GeoJSON format\n",
    "geojson_data = gdf_epsg.to_crs(epsg=4326).__geo_interface__\n",
    "\n",
    "# Add the GeoJSON data to the Folium map\n",
    "folium.GeoJson(geojson_data, name='bounding_box', style_function=lambda x: {'color': 'red', 'fillColor': 'red', 'weight': 3, 'fillOpacity': 0.1}).add_to(folium_map)\n",
    "\n",
    "# Add ESRI World Imagery as the base map\n",
    "folium.TileLayer(tiles='https://server.arcgisonline.com/ArcGIS/rest/services/World_Imagery/MapServer/tile/{z}/{y}/{x}', attr='ESRI World Imagery', name='ESRI World Imagery', overlay=True).add_to(folium_map)\n",
    "\n",
    "# Display the map\n",
    "folium_map\n",
    "\n"
   ]
  },
  {
   "cell_type": "markdown",
   "id": "c49d34b8",
   "metadata": {},
   "source": [
    "<div class=\"alert alert-block alert-warning\">\n",
    "<b> Note:</b> I adjusted the outline color, transparency, and outline width by passing the style-function on the folium map.\n",
    "</div>"
   ]
  },
  {
   "cell_type": "markdown",
   "id": "4b8cd458",
   "metadata": {},
   "source": [
    "<div class=\"alert alert-block alert-danger\">\n",
    "<b> Caution:</b> The code mightnot disply the image here in github since it is an interactive map, but trust me when you run the code with your data it will work. \n",
    "</div>"
   ]
  },
  {
   "cell_type": "code",
   "execution_count": null,
   "id": "06bcd635",
   "metadata": {},
   "outputs": [],
   "source": [
    "# Create a GeoDataFrame for the USA map using geopandas library\n",
    "usa_map = gpd.read_file(gpd.datasets.get_path('naturalearth_lowres'))\n",
    "\n",
    "# Calculate the extent of the bounding box\n",
    "bbox_extent = gdf_epsg.total_bounds\n",
    "\n",
    "\n",
    "# Plot the USA map\n",
    "ax = usa_map.plot(figsize=(10, 10), color='lightgray', edgecolor='black')\n",
    "\n",
    "# Set the axis limits to match the extent of the bounding box\n",
    "ax.set_xlim(bbox_extent[0]-5, bbox_extent[2]+10)\n",
    "ax.set_ylim(bbox_extent[1]-5, bbox_extent[3]+10)\n",
    "\n",
    "# Plot the reprojected bounding box over the USA map\n",
    "gdf_epsg.plot(ax=ax, color='red',alpha=1, linewidth=2000)\n",
    "plt.show()"
   ]
  },
  {
   "cell_type": "markdown",
   "id": "c7332fa1",
   "metadata": {},
   "source": [
    "# Part 2: Calculate NDVI using near infra-red and red channel\n",
    "\n",
    "## Formula for NDVI\n",
    "\n",
    "\n",
    "\n",
    "NDVI = $\\frac{NIR-RED}{NIR+RED}$\n",
    "\n",
    "_where NDVI= Normalized difference vegetation index, NIR= near infra-red band, RED= red band_\n",
    "\n",
    "\n",
    "<div class=\"alert alert-block alert-warning\">\n",
    "<b> Note:</b> NDVI ranges between -1 to 1 where vlaues < 0 represents the bare ground and no-vegetation while values > 1 indicates vegetation.\n",
    "</div>"
   ]
  },
  {
   "cell_type": "code",
   "execution_count": null,
   "id": "8ea56dfa",
   "metadata": {},
   "outputs": [],
   "source": [
    "raster_path = \"S:\\\\Lassen_data\\\\Super_pixels\\\\clipped_naip1.tif\"\n",
    "naip_dataA=rasterio.open(raster_path)"
   ]
  },
  {
   "cell_type": "code",
   "execution_count": null,
   "id": "add7d49c",
   "metadata": {},
   "outputs": [],
   "source": [
    "nir_band = naip_dataA.read(4)\n",
    "blue_band = naip_dataA.read(3)\n",
    "green_band = naip_dataA.read(2)\n",
    "red_band = naip_dataA.read(1)"
   ]
  },
  {
   "cell_type": "code",
   "execution_count": null,
   "id": "4bce194e",
   "metadata": {},
   "outputs": [],
   "source": [
    "# Normalize the pixel values to the range of [-1, 1]\n",
    "red_band = red_band.astype(float) / 232.0\n",
    "nir_band = nir_band.astype(float) / 229.0\n",
    "\n",
    "# Calculate NDVI\n",
    "ndvi = (nir_band - red_band) / (nir_band + red_band)\n",
    "\n",
    "\n",
    "# Create a 1x1 grid of subplots\n",
    "figure, ax = plt.subplots(1, 1, figsize=(14,8 ))\n",
    "\n",
    "# Plot the NDVI values within the extent of the original NAIP image \n",
    "ndvi_image = ax.imshow(ndvi, cmap='viridis', vmin=-1, vmax=1, extent=(naip_dataA.bounds.left,naip_dataA.bounds.right,\n",
    "                                                               naip_dataA.bounds.bottom,naip_dataA.bounds.top))\n",
    "ax.set_title('Calculated NDVI Values')\n",
    "ax.set_xlabel('Easting',fontsize=24, fontweight='bold')\n",
    "ax.set_ylabel('Northing',fontsize=24,fontweight='bold')\n",
    "\n",
    "# Add a colorbar\n",
    "cbar = plt.colorbar(ndvi_image, ax=ax, orientation='vertical')\n",
    "cbar.set_label('NDVI')\n",
    "\n"
   ]
  },
  {
   "cell_type": "code",
   "execution_count": null,
   "id": "7dd6278c",
   "metadata": {},
   "outputs": [],
   "source": [
    "\n",
    "ndvi_meta = naip_data.meta.copy()\n",
    "ndvi_meta.update({\n",
    "    'count': 1,  # NDVI is a single band raster\n",
    "    'dtype': rasterio.float32  # Use float32 data type for better precision\n",
    "})\n",
    "\n",
    "output_path = \"S:\\\\Lassen_data\\\\Super_pixels\\\\ndvi.tif\"\n",
    "with rasterio.open(output_path, 'w', **ndvi_meta) as dst:\n",
    "    dst.write(ndvi, 1)\n"
   ]
  },
  {
   "cell_type": "markdown",
   "id": "b8a977f9",
   "metadata": {},
   "source": [
    "<div class=\"alert alert-block alert-warning\">\n",
    "<b> Optional:</b> We can now export the ndvi data into the local folder in your computer.\n",
    "</div>"
   ]
  },
  {
   "cell_type": "markdown",
   "id": "6fbe3b5c",
   "metadata": {},
   "source": [
    "##### Additonal method to plot the region of interest (bounding box ) over a non-interactive map"
   ]
  },
  {
   "cell_type": "markdown",
   "id": "00729745",
   "metadata": {},
   "source": [
    "# Part 3: Image segmentation \n",
    "\n",
    "## Step 1: Importing the required libraries\n",
    "\n",
    "> #### For this exercise, I will again be needing fucntion within numpy, rasterio, scikitlearn, and geopandas librarries to read, manipulate and analyzed the raster data (NAIP). While we will use libraries like matplotlib for visualization and folium to create the interactive maps. \n",
    "\n",
    "> ##### Lets get started by loading the required libraries"
   ]
  },
  {
   "cell_type": "code",
   "execution_count": null,
   "id": "687f43ce",
   "metadata": {},
   "outputs": [],
   "source": [
    "import rasterio\n",
    "import numpy as np\n",
    "from rasterio.features import shapes\n",
    "from shapely.geometry import shape, mapping\n",
    "import geopandas as gpd\n",
    "from skimage.segmentation import slic\n",
    "import matplotlib.pyplot as plt\n",
    "import matplotlib.colors as mcolors\n",
    "%matplotlib inline\n"
   ]
  },
  {
   "cell_type": "markdown",
   "id": "e986b817",
   "metadata": {},
   "source": [
    "##### I will bring in the new NAIP imagery data this time to work with. You can download the naip imagery from the link provided below for any region within the United States:\n",
    "[Image Link](https://www.coast.noaa.gov/dataviewer/#/imagery/search/)"
   ]
  },
  {
   "cell_type": "code",
   "execution_count": null,
   "id": "8cc33ea9",
   "metadata": {},
   "outputs": [],
   "source": [
    "#raster_path = \"S:\\\\Lassen_data\\\\Super_pixels\\\\Test1.tif\"\n",
    "raster_path = \"S:\\\\Lassen_data\\\\Super_pixels\\\\clipped_naip.tif\"\n",
    "naip_data1 = rasterio.open(raster_path)\n"
   ]
  },
  {
   "cell_type": "markdown",
   "id": "2e09a5a5",
   "metadata": {},
   "source": [
    "## Step 2: Channel scaling and stacking \n",
    "> #### I will then read individual band seperately and then rescale them so that my bounds are between 0 and 1. After rescaling, I will stack the image vertically to creat a single image consisting of red, green and blue channel."
   ]
  },
  {
   "cell_type": "code",
   "execution_count": null,
   "id": "b8ec5618",
   "metadata": {},
   "outputs": [],
   "source": [
    "nir_band = naip_data1.read(4)\n",
    "blue_band = naip_data1.read(3)\n",
    "green_band = naip_data1.read(2)\n",
    "red_band = naip_data1.read(1)\n",
    "##### Lets try to increase the image brightness by doing another rescaling using the cumilative cut counts.\n",
    "def scale_cuts (x):\n",
    "    return((x-np.nanpercentile(x,2))/(np.nanpercentile(x, 98)-np.nanpercentile(x,2)))\n",
    "\n",
    "#### Lets apply to individual array \n",
    "\n",
    "blue_band = scale_cuts(blue_band)\n",
    "green_band =scale_cuts(green_band)\n",
    "red_band = scale_cuts(red_band)\n",
    "\n",
    "image_stack4=np.dstack((red_band,green_band,blue_band))\n",
    "\n",
    "# Create a 2x2 grid of subplots\n",
    "figure, ax = plt.subplots(figsize=(10, 10))\n",
    "# Plot the NIR band\n",
    "nir_image = ax.imshow(image_stack4, extent=(naip_data1.bounds.left,naip_data1.bounds.right,\n",
    "                                                               naip_data1.bounds.bottom,naip_data1.bounds.top))\n",
    "ax.set_title('False Color Composite', fontsize=28)\n",
    "ax.set_xlabel('Easting',fontsize=24, fontweight='bold')\n",
    "ax.set_ylabel('Northing',fontsize=24, fontweight='bold')\n",
    "#axes[0, 0].set_xticks([])"
   ]
  },
  {
   "cell_type": "markdown",
   "id": "87a8f6a5",
   "metadata": {},
   "source": [
    "<div class=\"alert alert-block alert-warning\">\n",
    "<b> You rememebr step 3 in part 1 of the turorial correct !! </b> "
   ]
  },
  {
   "cell_type": "markdown",
   "id": "fdbec610",
   "metadata": {},
   "source": [
    "## Step 3: Using SLIC algorithm\n",
    "> #### I will use the slic algorithm from the scikitlearn package. I want to produce 300 segements with compactness at 5 which will control how it follows the geometry of the objects in an image, usually,small numbers are better but you should play with different numbers for your image and see what it does. Sigma controls the smothness of the edges and again you have to play with different numbers to find the best for your image settings. "
   ]
  },
  {
   "cell_type": "code",
   "execution_count": null,
   "id": "55177099",
   "metadata": {},
   "outputs": [],
   "source": [
    "segments_slic = slic(image_stack4, n_segments=4000, compactness=5, sigma=5,\n",
    "                     start_label=1)\n",
    "segments_slic = segments_slic.astype('int32')\n",
    "segments_slic"
   ]
  },
  {
   "cell_type": "code",
   "execution_count": null,
   "id": "4a2cd02e",
   "metadata": {},
   "outputs": [],
   "source": [
    "from skimage.segmentation import slic, mark_boundaries\n",
    "fig, ax = plt.subplots(figsize=(10, 10))\n",
    "ax.imshow(mark_boundaries(image_stack4,segments_slic),extent=(naip_data1.bounds.left,naip_data1.bounds.right,\n",
    "                                                               naip_data1.bounds.bottom,naip_data1.bounds.top))\n",
    "ax.set_title('SLIC')\n"
   ]
  },
  {
   "cell_type": "markdown",
   "id": "0f2171b2",
   "metadata": {},
   "source": [
    "# Part 4: Generate a shapefile of the segments \n",
    "\n",
    "> #### For this exercise, I will be needing geopandas, shapely.geometry and rasterio packages. First I will generate the polygons from the slic segments, then create a geodataframe with the polygon features and finally write is as a shapefile to the disk."
   ]
  },
  {
   "cell_type": "code",
   "execution_count": null,
   "id": "aafce987",
   "metadata": {},
   "outputs": [],
   "source": [
    "import rasterio\n",
    "from rasterio.features import shapes\n",
    "from shapely.geometry import shape\n",
    "import geopandas as gpd\n",
    "\n",
    "# Step 3: Generate polygons from the labels using rasterio.features.shapes\n",
    "segments = []\n",
    "for geom, value in shapes(segments_slic, mask=(segments_slic > 0), transform=naip_data1.transform):\n",
    "    if value == 0:\n",
    "        continue\n",
    "    shape_obj = shape(geom)\n",
    "    if shape_obj.is_empty or shape_obj.geom_type != \"Polygon\":\n",
    "        continue\n",
    "    segments.append(shape_obj)\n",
    "\n",
    "desired_crs = 'EPSG:26910'\n",
    "\n",
    "# Step 4: Create a GeoDataFrame with the segment polygons\n",
    "gdf = gpd.GeoDataFrame({\"geometry\": segments},crs=desired_crs)\n",
    "\n",
    "gdf_epgs1=gdf.to_crs(epsg=4326)\n",
    "\n",
    "#  Write the GeoDataFrame to a shapefile\n",
    "#output_shapefile = \"S:\\\\Lassen_data\\\\Super_pixels\\\\Shapefile\\\\Segments1.shp\"\n",
    "#gdf.to_file(output_shapefile)\n"
   ]
  },
  {
   "cell_type": "code",
   "execution_count": null,
   "id": "b96f9f6f",
   "metadata": {},
   "outputs": [],
   "source": [
    "gdf_epgs1.crs"
   ]
  },
  {
   "cell_type": "markdown",
   "id": "6e9225fa",
   "metadata": {},
   "source": [
    "<div class=\"alert alert-block alert-warning\">\n",
    "<b> I already converted the projection to epsg: 4326 so that the segemets overlay correctly over the ortho while creating a folium map !! </b> "
   ]
  },
  {
   "cell_type": "markdown",
   "id": "7605e15f",
   "metadata": {},
   "source": [
    "# Part 5: Create an interactive map of the segmented shapefile using folium\n",
    "#### This code snippet employs the Python library Folium to create an interactive web map with visualized geographic data. The primary focus of this visualization is a GeoDataFrame gdf_epgs1 that contains polygon geometries. The code initiates by calculating the centroid of these polygons to determine the map's central point, which ensures a balanced view when the map is initially displayed. The folium.Map() function constructs the base map with the specified center and initial zoom level. The GeoDataFrame is then transformed into a GeoJSON format using the to_crs() method, which ensures the proper geographical projection (in this case, EPSG:4326, or WGS 84). This transformation is crucial for accurate representation on a map. The GeoJSON data is subsequently integrated into the Folium map using folium.GeoJson(), allowing the polygons to be displayed on the map. Styling options are applied to these polygons, such as red outlines and semi-transparent red fills.\n",
    "\n",
    "> #####  Furthermore, a tile layer is added to the map utilizing the ESRI World Imagery service. This layer provides a visually appealing background with high-resolution satellite imagery. By using folium.TileLayer(), the ESRI World Imagery tiles are overlaid onto the map. The overlay=True parameter ensures that the tile layer can be toggled on and off as needed. Finally, the fully constructed map is displayed by calling folium_map.\n",
    "\n",
    "> ##### In summary, this code snippet showcases the power of Folium for creating interactive maps that enable the visualization of geographic data, including polygons, and offers customization options for map styling and background imagery."
   ]
  },
  {
   "cell_type": "code",
   "execution_count": null,
   "id": "f0091c0f",
   "metadata": {
    "scrolled": true
   },
   "outputs": [],
   "source": [
    "import folium\n",
    "# Create a Folium map centered on the bounding box polygon\n",
    "map_center = [gdf_epgs1.centroid.y.values[0], gdf_epgs1.centroid.x.values[0]]\n",
    "folium_map = folium.Map(location=map_center, zoom_start=12)\n",
    "\n",
    "# Convert the GeoDataFrame to a GeoJSON format\n",
    "geojson_data = gdf_epgs1.to_crs(epsg=4326).__geo_interface__\n",
    "\n",
    "# Add the GeoJSON data to the Folium map\n",
    "folium.GeoJson(geojson_data, name='bounding_box', style_function=lambda x: {'color': 'red', 'fillColor': 'red', 'weight': 0.3, 'fillOpacity': 0.1}).add_to(folium_map)\n",
    "\n",
    "# Add ESRI World Imagery as the base map\n",
    "folium.TileLayer(tiles='https://server.arcgisonline.com/ArcGIS/rest/services/World_Imagery/MapServer/tile/{z}/{y}/{x}', attr='ESRI World Imagery', name='ESRI World Imagery', overlay=True).add_to(folium_map)\n",
    "\n",
    "# Display the map\n",
    "folium_map\n",
    "\n"
   ]
  }
 ],
 "metadata": {
  "kernelspec": {
   "display_name": "Python 3 (ipykernel)",
   "language": "python",
   "name": "python3"
  },
  "language_info": {
   "codemirror_mode": {
    "name": "ipython",
    "version": 3
   },
   "file_extension": ".py",
   "mimetype": "text/x-python",
   "name": "python",
   "nbconvert_exporter": "python",
   "pygments_lexer": "ipython3",
   "version": "3.11.4"
  }
 },
 "nbformat": 4,
 "nbformat_minor": 5
}
